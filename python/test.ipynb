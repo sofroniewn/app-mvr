{
 "cells": [
  {
   "cell_type": "code",
   "execution_count": 1,
   "metadata": {
    "collapsed": true
   },
   "outputs": [],
   "source": [
    "import matplotlib.pyplot as plt\n",
    "%matplotlib inline"
   ]
  },
  {
   "cell_type": "code",
   "execution_count": 2,
   "metadata": {
    "collapsed": false
   },
   "outputs": [],
   "source": [
    "from io import BufferedReader, open"
   ]
  },
  {
   "cell_type": "code",
   "execution_count": 3,
   "metadata": {
    "collapsed": true
   },
   "outputs": [],
   "source": [
    "import google.protobuf.internal.decoder as decoder"
   ]
  },
  {
   "cell_type": "code",
   "execution_count": 4,
   "metadata": {
    "collapsed": true
   },
   "outputs": [],
   "source": [
    "def ReadItm(fname, constructor, size_limit = 0):\n",
    "    ''' Reads and parses a length prefixed protobuf messages from file. \n",
    "        The file MUST not be corrupted. The parsing is equivalent to parseDelimitedFrom.\n",
    "        http://dev.pawelsz.eu/2016/05/read-from-file-length-prefixed-protocol.html\n",
    "    '''\n",
    "    f = None\n",
    "    if fname.endswith('.gzip'):\n",
    "        f = gzip.open(fname, 'rb')\n",
    "    else:\n",
    "        f = open(fname, 'rb')\n",
    "    reader = BufferedReader(f)\n",
    "    bytes_read = 0\n",
    "    while size_limit<=0 or bytes_read<size_limit:\n",
    "        buffer = reader.peek(10)\n",
    "        if len(buffer) == 0:\n",
    "            break\n",
    "        (size, position) = decoder._DecodeVarint(buffer, 0)\n",
    "        reader.read(position)\n",
    "        itm = constructor()\n",
    "        itm.ParseFromString(reader.read(size))\n",
    "        bytes_read = bytes_read + position + size\n",
    "        yield itm\n",
    "    f.close()"
   ]
  },
  {
   "cell_type": "code",
   "execution_count": 5,
   "metadata": {
    "collapsed": false
   },
   "outputs": [],
   "source": [
    "import behavior_pb2, maze_pb2"
   ]
  },
  {
   "cell_type": "code",
   "execution_count": 6,
   "metadata": {
    "collapsed": true
   },
   "outputs": [],
   "source": [
    "behavior = ReadItm('../sessions/000000/behavior/behavior.data', behavior_pb2.Data)"
   ]
  },
  {
   "cell_type": "code",
   "execution_count": 7,
   "metadata": {
    "collapsed": false
   },
   "outputs": [],
   "source": [
    "deltaTime = [x.deltaTime/1000.0 for x in behavior]"
   ]
  },
  {
   "cell_type": "code",
   "execution_count": 8,
   "metadata": {
    "collapsed": false
   },
   "outputs": [
    {
     "data": {
      "text/plain": [
       "(0, 0.1)"
      ]
     },
     "execution_count": 8,
     "metadata": {},
     "output_type": "execute_result"
    },
    {
     "data": {
      "image/png": "[encoded data removed]",
      "text/plain": [
       "<matplotlib.figure.Figure at 0x10f808310>"
      ]
     },
     "metadata": {},
     "output_type": "display_data"
    }
   ],
   "source": [
    "plt.plot(deltaTime)\n",
    "plt.ylim([0, .1])"
   ]
  },
  {
   "cell_type": "code",
   "execution_count": 16,
   "metadata": {
    "collapsed": true
   },
   "outputs": [],
   "source": [
    "maze = ReadItm('../sessions/000000/behavior/maze.data', maze_pb2.Data)"
   ]
  },
  {
   "cell_type": "code",
   "execution_count": 17,
   "metadata": {
    "collapsed": false
   },
   "outputs": [],
   "source": [
    "trial = [x.maze.area for x in maze]"
   ]
  },
  {
   "cell_type": "code",
   "execution_count": 18,
   "metadata": {
    "collapsed": false
   },
   "outputs": [
    {
     "name": "stdout",
     "output_type": "stream",
     "text": [
      "[[], [], [], [], [], []]\n"
     ]
    }
   ],
   "source": [
    "print trial"
   ]
  },
  {
   "cell_type": "code",
   "execution_count": 14,
   "metadata": {
    "collapsed": false
   },
   "outputs": [
    {
     "data": {
      "text/plain": [
       "[maze {\n",
       "   area {\n",
       "   }\n",
       "   borders {\n",
       "   }\n",
       "   borders {\n",
       "   }\n",
       "   links {\n",
       "   }\n",
       "   links {\n",
       "   }\n",
       "   triggers {\n",
       "   }\n",
       "   name: \"twoChoice.maze\"\n",
       " }\n",
       " trial: 0\n",
       " init: true\n",
       " link: false\n",
       " advance: false, maze {\n",
       "   area {\n",
       "   }\n",
       "   borders {\n",
       "   }\n",
       "   borders {\n",
       "   }\n",
       "   links {\n",
       "   }\n",
       "   links {\n",
       "   }\n",
       "   triggers {\n",
       "   }\n",
       "   name: \"twoChoiceAlt.maze\"\n",
       " }\n",
       " trial: 1\n",
       " init: false\n",
       " link: true\n",
       " advance: false, maze {\n",
       "   area {\n",
       "   }\n",
       "   borders {\n",
       "   }\n",
       "   borders {\n",
       "   }\n",
       "   links {\n",
       "   }\n",
       "   links {\n",
       "   }\n",
       "   triggers {\n",
       "   }\n",
       "   name: \"twoChoice.maze\"\n",
       " }\n",
       " trial: 2\n",
       " init: false\n",
       " link: true\n",
       " advance: false, maze {\n",
       "   area {\n",
       "   }\n",
       "   borders {\n",
       "   }\n",
       "   borders {\n",
       "   }\n",
       "   links {\n",
       "   }\n",
       "   links {\n",
       "   }\n",
       "   triggers {\n",
       "   }\n",
       "   name: \"twoChoiceAlt.maze\"\n",
       " }\n",
       " trial: 3\n",
       " init: false\n",
       " link: true\n",
       " advance: false, maze {\n",
       "   area {\n",
       "   }\n",
       "   borders {\n",
       "   }\n",
       "   borders {\n",
       "   }\n",
       "   links {\n",
       "   }\n",
       "   links {\n",
       "   }\n",
       "   triggers {\n",
       "   }\n",
       "   name: \"twoChoice.maze\"\n",
       " }\n",
       " trial: 4\n",
       " init: false\n",
       " link: true\n",
       " advance: false, maze {\n",
       "   area {\n",
       "   }\n",
       "   borders {\n",
       "   }\n",
       "   borders {\n",
       "   }\n",
       "   links {\n",
       "   }\n",
       "   links {\n",
       "   }\n",
       "   triggers {\n",
       "   }\n",
       "   name: \"twoChoiceAlt.maze\"\n",
       " }\n",
       " trial: 5\n",
       " init: false\n",
       " link: true\n",
       " advance: false]"
      ]
     },
     "execution_count": 14,
     "metadata": {},
     "output_type": "execute_result"
    }
   ],
   "source": [
    "list(maze)"
   ]
  },
  {
   "cell_type": "code",
   "execution_count": null,
   "metadata": {
    "collapsed": true
   },
   "outputs": [],
   "source": []
  },
  {
   "cell_type": "code",
   "execution_count": null,
   "metadata": {
    "collapsed": true
   },
   "outputs": [],
   "source": []
  },
  {
   "cell_type": "code",
   "execution_count": null,
   "metadata": {
    "collapsed": true
   },
   "outputs": [],
   "source": []
  },
  {
   "cell_type": "code",
   "execution_count": null,
   "metadata": {
    "collapsed": true
   },
   "outputs": [],
   "source": []
  }
 ],
 "metadata": {
  "anaconda-cloud": {},
  "kernelspec": {
   "display_name": "Python [Root]",
   "language": "python",
   "name": "Python [Root]"
  },
  "language_info": {
   "codemirror_mode": {
    "name": "ipython",
    "version": 2
   },
   "file_extension": ".py",
   "mimetype": "text/x-python",
   "name": "python",
   "nbconvert_exporter": "python",
   "pygments_lexer": "ipython2",
   "version": "2.7.12"
  }
 },
 "nbformat": 4,
 "nbformat_minor": 0
}
